{
 "cells": [
  {
   "cell_type": "markdown",
   "metadata": {},
   "source": [
    "# Sample"
   ]
  },
  {
   "cell_type": "code",
   "execution_count": 1,
   "metadata": {
    "ExecuteTime": {
     "end_time": "2017-05-22T15:40:20.068993Z",
     "start_time": "2017-05-22T15:40:16.635422Z"
    },
    "collapsed": true
   },
   "outputs": [],
   "source": [
    "# import tensorflow as tf\n",
    "import os\n",
    "\n",
    "import json\n",
    "\n",
    "import matplotlib.pyplot as plt"
   ]
  },
  {
   "cell_type": "markdown",
   "metadata": {},
   "source": [
    "# User"
   ]
  },
  {
   "cell_type": "markdown",
   "metadata": {},
   "source": [
    "## user beerchitect"
   ]
  },
  {
   "cell_type": "code",
   "execution_count": 34,
   "metadata": {
    "ExecuteTime": {
     "end_time": "2017-05-23T23:42:46.744549Z",
     "start_time": "2017-05-23T23:42:45.894511Z"
    },
    "collapsed": false
   },
   "outputs": [],
   "source": [
    "%reload_ext autoreload\n",
    "%autoreload 2\n",
    "os.chdir('/Users/troy/PycharmProjects/GCN')\n",
    "from Apply.sample import *\n",
    "from NN.lstm import LSTM\n",
    "from Util.load_data import LoadData\n",
    "from Apply.sample import sample_auxiliary\n",
    "from Util.chars_auxiliary import CharsAuxi"
   ]
  },
  {
   "cell_type": "code",
   "execution_count": 35,
   "metadata": {
    "ExecuteTime": {
     "end_time": "2017-05-23T23:43:30.082912Z",
     "start_time": "2017-05-23T23:43:29.970718Z"
    },
    "code_folding": [
     2.0
    ],
    "collapsed": false
   },
   "outputs": [
    {
     "name": "stdout",
     "output_type": "stream",
     "text": [
      "number of auxiliary, 5\n",
      "number of classes, 56\n",
      "number of batches, 10\n",
      "batch size, 10\n",
      "number of characters per train, 27679\n",
      "number of lstm size, 128\n",
      "number of whole characters of this user, 276790\n"
     ]
    }
   ],
   "source": [
    "_folder = '/Users/troy/PhD_Research/Deep_Learning_with_Recommendation_system/GCN/char-rnn-tf/log_beerchitect'\n",
    "_file = 'beerchitect.json'\n",
    "with open(os.path.join(_folder, _file)) as _input:\n",
    "    data = json.load(_input)\n",
    "    num_auxiliary = data[0]['number of auxiliary']\n",
    "    print ('number of auxiliary,', num_auxiliary)\n",
    "    \n",
    "    num_characters = data[0]['number of characters']\n",
    "    print ('number of classes,', num_characters)\n",
    "    \n",
    "    num_batches = data[0]['number of batchs']\n",
    "    print ('number of batches,', num_batches)\n",
    "    \n",
    "    batch_size = data[0]['batch_size']\n",
    "    print ('batch size,', batch_size)\n",
    "    \n",
    "    num_char = data[0]['number of characters per train']\n",
    "    print ('number of characters per train,', num_char)\n",
    "\n",
    "    lstm_size = data[0]['lstm_size']\n",
    "    print ('number of lstm size,', lstm_size)\n",
    "    num_layers = data[0]['num_layers']\n",
    "    learning_rate = data[0]['learning rate']\n",
    "    keep_prob = data[0]['keep probability']\n",
    "    epochs = data[0]['epochs']\n",
    "    \n",
    "    print ('number of whole characters of this user,', num_char*num_batches)"
   ]
  },
  {
   "cell_type": "code",
   "execution_count": 37,
   "metadata": {
    "ExecuteTime": {
     "end_time": "2017-05-23T23:45:38.254191Z",
     "start_time": "2017-05-23T23:45:38.162320Z"
    },
    "collapsed": true
   },
   "outputs": [],
   "source": [
    "n_samples = 500\n",
    "top_n = 10\n",
    "checkpoint = _folder + '/' + 'e49.ckpt'\n",
    "\n",
    "train_user_id = [u'beerchitect']\n",
    "load = LoadData('/Users/troy/PhD_Research/Deep_Learning_with_Recommendation_system/GCN')\n",
    "training_df = load.get_df_by_userids(train_user_id)\n",
    "chars_auxi = CharsAuxi(training_df)"
   ]
  },
  {
   "cell_type": "code",
   "execution_count": 59,
   "metadata": {
    "ExecuteTime": {
     "end_time": "2017-05-24T00:03:16.247608Z",
     "start_time": "2017-05-24T00:03:14.199043Z"
    },
    "code_folding": [
     7.0
    ],
    "collapsed": false
   },
   "outputs": [
    {
     "data": {
      "text/plain": [
       "u'i think a bor are the tetsle menat an and betirud araroste nrilts bittits, frerils ceene bodt. fel fons firel ferate flamtreat shapate. tantached fleane widh. thy o bugn mantess and coamliles, ant a prate charorus fom wishle amtrry swoed swoed binench, carlerears bocigets if adlirente olp atomeless siraless stitice sampnere the alp forts. bleald on arlaste cloce a statander tolstig wighp bid beer beel and oal a amocp. soster bitters and and fep weld tottanasslirangenl., is mand momes toely brends albore'"
      ]
     },
     "execution_count": 59,
     "metadata": {},
     "output_type": "execute_result"
    }
   ],
   "source": [
    "prime = 'i think'\n",
    "appea = 1\n",
    "aroma = 1\n",
    "palat = 1\n",
    "taste = 1\n",
    "overa = 1\n",
    "\n",
    "sample, prob = sample_auxiliary(checkpoint=checkpoint, \n",
    "                                n_samples=n_samples, \n",
    "                                lstm_size=lstm_size, \n",
    "                                num_characters=num_characters, \n",
    "                                num_auxi=num_auxiliary, \n",
    "                                appea=appea, \n",
    "                                aroma=aroma, \n",
    "                                palat=palat, \n",
    "                                taste=taste, \n",
    "                                overa=overa, \n",
    "                                chars_auxi=chars_auxi, \n",
    "                                prime=prime, \n",
    "                                top_n=top_n)\n",
    "\n",
    "prime + sample"
   ]
  },
  {
   "cell_type": "code",
   "execution_count": 60,
   "metadata": {
    "ExecuteTime": {
     "end_time": "2017-05-24T00:03:24.607667Z",
     "start_time": "2017-05-24T00:03:21.822548Z"
    },
    "code_folding": [
     7.0
    ],
    "collapsed": false
   },
   "outputs": [
    {
     "data": {
      "text/plain": [
       "u'i think fos charl most a brereed bintapty that ir with thas flempnes. the frapesless afande a clotong the the-betenes coange, farasers. mrellens bithy sorit. bastil totantes., is cos the and afseantise tidat bin shatonts, metotes wisat beer, the light that for alp fyares thus spance and tanch wottonady a sits..ed funtlise i and, omlrucan the metisteisams a as canir spartinoncase sing beorl cols a coma tot swyach creils bear, chamode fucy toes me alcualsit and fol a appict thag ippotl cuplotend te and an'"
      ]
     },
     "execution_count": 60,
     "metadata": {},
     "output_type": "execute_result"
    }
   ],
   "source": [
    "prime = 'i think'\n",
    "appea = 0\n",
    "aroma = 0\n",
    "palat = 0\n",
    "taste = 0\n",
    "overa = 0\n",
    "\n",
    "sample, prob = sample_auxiliary(checkpoint=checkpoint, \n",
    "                                n_samples=n_samples, \n",
    "                                lstm_size=lstm_size, \n",
    "                                num_characters=num_characters, \n",
    "                                num_auxi=num_auxiliary, \n",
    "                                appea=appea, \n",
    "                                aroma=aroma, \n",
    "                                palat=palat, \n",
    "                                taste=taste, \n",
    "                                overa=overa, \n",
    "                                chars_auxi=chars_auxi, \n",
    "                                prime=prime, \n",
    "                                top_n=top_n)\n",
    "\n",
    "prime + sample"
   ]
  },
  {
   "cell_type": "code",
   "execution_count": 62,
   "metadata": {
    "ExecuteTime": {
     "end_time": "2017-05-24T00:03:33.811382Z",
     "start_time": "2017-05-24T00:03:31.783220Z"
    },
    "code_folding": [
     7.0
    ],
    "collapsed": false
   },
   "outputs": [
    {
     "data": {
      "text/plain": [
       "u'i thinkes and o ping bul ot bites. tispaned funs o are betoranges colpeaste with the bortets suncasy sipnanias supdasiand banind faval faness whesioc bearilal are aflerants, tortile brlully mals be weemil fleras a plemmilg spurdir bug canss telcurty weant, the al sunted sore shave, beely cormud feters the tasans spicimeles shons the shatavin tortasaty the cuth the bops, and as it motinesses a toso wanc cutoplly fry the fraroind sene. oas coceds cencund the and ofs a detidy cland the swoed the totter alt'"
      ]
     },
     "execution_count": 62,
     "metadata": {},
     "output_type": "execute_result"
    }
   ],
   "source": [
    "prime = 'i think'\n",
    "appea = 1\n",
    "aroma = 0\n",
    "palat = 0\n",
    "taste = 0\n",
    "overa = 0\n",
    "\n",
    "sample, prob = sample_auxiliary(checkpoint=checkpoint, \n",
    "                                n_samples=n_samples, \n",
    "                                lstm_size=lstm_size, \n",
    "                                num_characters=num_characters, \n",
    "                                num_auxi=num_auxiliary, \n",
    "                                appea=appea, \n",
    "                                aroma=aroma, \n",
    "                                palat=palat, \n",
    "                                taste=taste, \n",
    "                                overa=overa, \n",
    "                                chars_auxi=chars_auxi, \n",
    "                                prime=prime, \n",
    "                                top_n=top_n)\n",
    "\n",
    "prime + sample"
   ]
  },
  {
   "cell_type": "code",
   "execution_count": 62,
   "metadata": {
    "ExecuteTime": {
     "end_time": "2017-05-24T00:03:33.811382Z",
     "start_time": "2017-05-24T00:03:31.783220Z"
    },
    "code_folding": [
     7.0
    ],
    "collapsed": false
   },
   "outputs": [
    {
     "data": {
      "text/plain": [
       "u'i thinkes and o ping bul ot bites. tispaned funs o are betoranges colpeaste with the bortets suncasy sipnanias supdasiand banind faval faness whesioc bearilal are aflerants, tortile brlully mals be weemil fleras a plemmilg spurdir bug canss telcurty weant, the al sunted sore shave, beely cormud feters the tasans spicimeles shons the shatavin tortasaty the cuth the bops, and as it motinesses a toso wanc cutoplly fry the fraroind sene. oas coceds cencund the and ofs a detidy cland the swoed the totter alt'"
      ]
     },
     "execution_count": 62,
     "metadata": {},
     "output_type": "execute_result"
    }
   ],
   "source": [
    "prime = 'i think'\n",
    "appea = 1\n",
    "aroma = 0\n",
    "palat = 0\n",
    "taste = 0\n",
    "overa = 0\n",
    "\n",
    "sample, prob = sample_auxiliary(checkpoint=checkpoint, \n",
    "                                n_samples=n_samples, \n",
    "                                lstm_size=lstm_size, \n",
    "                                num_characters=num_characters, \n",
    "                                num_auxi=num_auxiliary, \n",
    "                                appea=appea, \n",
    "                                aroma=aroma, \n",
    "                                palat=palat, \n",
    "                                taste=taste, \n",
    "                                overa=overa, \n",
    "                                chars_auxi=chars_auxi, \n",
    "                                prime=prime, \n",
    "                                top_n=top_n)\n",
    "\n",
    "prime + sample"
   ]
  },
  {
   "cell_type": "code",
   "execution_count": 63,
   "metadata": {
    "ExecuteTime": {
     "end_time": "2017-05-24T00:04:55.999441Z",
     "start_time": "2017-05-24T00:04:53.586676Z"
    },
    "code_folding": [
     7.0
    ],
    "collapsed": false
   },
   "outputs": [
    {
     "data": {
      "text/plain": [
       "u\"i think. that tulls, badneirt beer thitsss the a bit thit biss thit thil breot tepstellligent i cicalime farates bellit frop a mid fising the bees welr of the bud stares furs. at as a mantersy masting, shich the, struching al omtertat sesposel boer onerlited the flomed titals tolss, amesa a amasigtisiacte thid bosis at the ofss milals i al todanialior the mlapte se trered. canonatiod bate chororomericel a monactom bithacsino alcorored asplener mracs talt. not in walts.'compinalt cinronts flevas. speen w\""
      ]
     },
     "execution_count": 63,
     "metadata": {},
     "output_type": "execute_result"
    }
   ],
   "source": [
    "prime = 'i think'\n",
    "appea = 0\n",
    "aroma = 1\n",
    "palat = 0\n",
    "taste = 0\n",
    "overa = 0\n",
    "\n",
    "sample, prob = sample_auxiliary(checkpoint=checkpoint, \n",
    "                                n_samples=n_samples, \n",
    "                                lstm_size=lstm_size, \n",
    "                                num_characters=num_characters, \n",
    "                                num_auxi=num_auxiliary, \n",
    "                                appea=appea, \n",
    "                                aroma=aroma, \n",
    "                                palat=palat, \n",
    "                                taste=taste, \n",
    "                                overa=overa, \n",
    "                                chars_auxi=chars_auxi, \n",
    "                                prime=prime, \n",
    "                                top_n=top_n)\n",
    "\n",
    "prime + sample"
   ]
  },
  {
   "cell_type": "code",
   "execution_count": 64,
   "metadata": {
    "ExecuteTime": {
     "end_time": "2017-05-24T00:05:07.801165Z",
     "start_time": "2017-05-24T00:05:05.722204Z"
    },
    "code_folding": [
     7.0
    ],
    "collapsed": false
   },
   "outputs": [
    {
     "data": {
      "text/plain": [
       "u'i think the telry finhar or clias ald bopneln, stilanky tadter toanded, and caretetterice, it ine fruantlink the stints soterates thits the bament o teled biss. surling shurt ol ming sa am fove chelllites sadet streavere the be ot misess and cretonenslo an it afstos bite me toed are the te son ald wis tole flare betond copam atlera thy ascanty on toast bitkomass. tisle on conlite seance fulp amarians, arpore momives amet fillel on cand madlust and sostes. muthle. ot backs cillinant ti calts and i corali'"
      ]
     },
     "execution_count": 64,
     "metadata": {},
     "output_type": "execute_result"
    }
   ],
   "source": [
    "prime = 'i think'\n",
    "appea = 0\n",
    "aroma = 0\n",
    "palat = 1\n",
    "taste = 0\n",
    "overa = 0\n",
    "\n",
    "sample, prob = sample_auxiliary(checkpoint=checkpoint, \n",
    "                                n_samples=n_samples, \n",
    "                                lstm_size=lstm_size, \n",
    "                                num_characters=num_characters, \n",
    "                                num_auxi=num_auxiliary, \n",
    "                                appea=appea, \n",
    "                                aroma=aroma, \n",
    "                                palat=palat, \n",
    "                                taste=taste, \n",
    "                                overa=overa, \n",
    "                                chars_auxi=chars_auxi, \n",
    "                                prime=prime, \n",
    "                                top_n=top_n)\n",
    "\n",
    "prime + sample"
   ]
  },
  {
   "cell_type": "code",
   "execution_count": 65,
   "metadata": {
    "ExecuteTime": {
     "end_time": "2017-05-24T00:05:26.514435Z",
     "start_time": "2017-05-24T00:05:23.973443Z"
    },
    "code_folding": [
     7.0
    ],
    "collapsed": false
   },
   "outputs": [
    {
     "data": {
      "text/plain": [
       "u'i think a fis stornite fuas al im basing tile supseres cronacgenarias fonond. centu of of an thanterss. a plardes a fremustann stiles beor thote weralnoramy ildrene. asphe an soch toerl spolp at mestud criacee. sweet with spacesye ciltinds the onh bit cemeresend asplacker-atofny, flow blevuss buster tatp omsince frones matleris tind or surlly and ont shorn see bonlostes boty wasly bun topterle the blovat tot night fol the celps mesolates the cisple ang mhlene. fringlundils and frroase. the beer ot and b'"
      ]
     },
     "execution_count": 65,
     "metadata": {},
     "output_type": "execute_result"
    }
   ],
   "source": [
    "prime = 'i think'\n",
    "appea = 0\n",
    "aroma = 0\n",
    "palat = 0\n",
    "taste = 1\n",
    "overa = 0\n",
    "\n",
    "sample, prob = sample_auxiliary(checkpoint=checkpoint, \n",
    "                                n_samples=n_samples, \n",
    "                                lstm_size=lstm_size, \n",
    "                                num_characters=num_characters, \n",
    "                                num_auxi=num_auxiliary, \n",
    "                                appea=appea, \n",
    "                                aroma=aroma, \n",
    "                                palat=palat, \n",
    "                                taste=taste, \n",
    "                                overa=overa, \n",
    "                                chars_auxi=chars_auxi, \n",
    "                                prime=prime, \n",
    "                                top_n=top_n)\n",
    "\n",
    "prime + sample"
   ]
  },
  {
   "cell_type": "code",
   "execution_count": 66,
   "metadata": {
    "ExecuteTime": {
     "end_time": "2017-05-24T00:05:38.935043Z",
     "start_time": "2017-05-24T00:05:36.867805Z"
    },
    "code_folding": [
     7.0
    ],
    "collapsed": false
   },
   "outputs": [
    {
     "data": {
      "text/plain": [
       "u'i think, afriatter to an the bate. alace, thid-leting the thral a a bit thil. boe thas brlan ancos cantinite the bas fraws ontertiln, big and cepseent beer it and an a primoncl a my asend the toader- torses spiloardss in chopis thit forsy bedntimadel the alp thils. thrunhe op addel mendit thens swisat wingly brant feets one ass tante fol atoting se thit opars.  flermitlent tham asteste wleses, ilen as a teraca thy. so beer woent wuet asalg boringes-doce. cictlil alt teto the melen teds.inlets, brewt anc'"
      ]
     },
     "execution_count": 66,
     "metadata": {},
     "output_type": "execute_result"
    }
   ],
   "source": [
    "prime = 'i think'\n",
    "appea = 0\n",
    "aroma = 0\n",
    "palat = 0\n",
    "taste = 0\n",
    "overa = 1\n",
    "\n",
    "sample, prob = sample_auxiliary(checkpoint=checkpoint, \n",
    "                                n_samples=n_samples, \n",
    "                                lstm_size=lstm_size, \n",
    "                                num_characters=num_characters, \n",
    "                                num_auxi=num_auxiliary, \n",
    "                                appea=appea, \n",
    "                                aroma=aroma, \n",
    "                                palat=palat, \n",
    "                                taste=taste, \n",
    "                                overa=overa, \n",
    "                                chars_auxi=chars_auxi, \n",
    "                                prime=prime, \n",
    "                                top_n=top_n)\n",
    "\n",
    "prime + sample"
   ]
  },
  {
   "cell_type": "markdown",
   "metadata": {},
   "source": [
    "## user biegaman"
   ]
  },
  {
   "cell_type": "code",
   "execution_count": 34,
   "metadata": {
    "ExecuteTime": {
     "end_time": "2017-05-23T23:42:46.744549Z",
     "start_time": "2017-05-23T23:42:45.894511Z"
    },
    "collapsed": false
   },
   "outputs": [],
   "source": [
    "%reload_ext autoreload\n",
    "%autoreload 2\n",
    "os.chdir('/Users/troy/PycharmProjects/GCN')\n",
    "from Apply.sample import *\n",
    "from NN.lstm import LSTM\n",
    "from Util.load_data import LoadData\n",
    "from Apply.sample import sample_auxiliary\n",
    "from Util.chars_auxiliary import CharsAuxi"
   ]
  },
  {
   "cell_type": "code",
   "execution_count": 67,
   "metadata": {
    "ExecuteTime": {
     "end_time": "2017-05-24T00:09:50.985614Z",
     "start_time": "2017-05-24T00:09:50.872455Z"
    },
    "code_folding": [
     2.0
    ],
    "collapsed": false
   },
   "outputs": [
    {
     "name": "stdout",
     "output_type": "stream",
     "text": [
      "number of auxiliary, 5\n",
      "number of classes, 58\n",
      "number of batches, 10\n",
      "batch size, 10\n",
      "number of characters per train, 31904\n",
      "number of lstm size, 128\n",
      "number of whole characters of this user, 319040\n"
     ]
    }
   ],
   "source": [
    "_folder = '/Users/troy/PhD_Research/Deep_Learning_with_Recommendation_system/GCN/char-rnn-tf/log_biegaman'\n",
    "_file = 'biegaman.json'\n",
    "with open(os.path.join(_folder, _file)) as _input:\n",
    "    data = json.load(_input)\n",
    "    num_auxiliary = data[0]['number of auxiliary']\n",
    "    print ('number of auxiliary,', num_auxiliary)\n",
    "    \n",
    "    num_characters = data[0]['number of characters']\n",
    "    print ('number of classes,', num_characters)\n",
    "    \n",
    "    num_batches = data[0]['number of batchs']\n",
    "    print ('number of batches,', num_batches)\n",
    "    \n",
    "    batch_size = data[0]['batch_size']\n",
    "    print ('batch size,', batch_size)\n",
    "    \n",
    "    num_char = data[0]['number of characters per train']\n",
    "    print ('number of characters per train,', num_char)\n",
    "\n",
    "    lstm_size = data[0]['lstm_size']\n",
    "    print ('number of lstm size,', lstm_size)\n",
    "    num_layers = data[0]['num_layers']\n",
    "    learning_rate = data[0]['learning rate']\n",
    "    keep_prob = data[0]['keep probability']\n",
    "    epochs = data[0]['epochs']\n",
    "    \n",
    "    print ('number of whole characters of this user,', num_char*num_batches)"
   ]
  },
  {
   "cell_type": "code",
   "execution_count": 68,
   "metadata": {
    "ExecuteTime": {
     "end_time": "2017-05-24T00:11:17.819042Z",
     "start_time": "2017-05-24T00:10:05.558645Z"
    },
    "collapsed": false
   },
   "outputs": [
    {
     "name": "stdout",
     "output_type": "stream",
     "text": [
      "('table name: ', [u'beers', u'reviews'])\n",
      "('keys: ', <type 'list'>)\n"
     ]
    }
   ],
   "source": [
    "n_samples = 500\n",
    "top_n = 10\n",
    "checkpoint = _folder + '/' + 'e49.ckpt'\n",
    "\n",
    "train_user_id = [u'biegaman']\n",
    "load = LoadData('/Users/troy/PhD_Research/Deep_Learning_with_Recommendation_system/GCN')\n",
    "training_df = load.get_df_by_userids(train_user_id)\n",
    "chars_auxi = CharsAuxi(training_df)"
   ]
  },
  {
   "cell_type": "code",
   "execution_count": 69,
   "metadata": {
    "ExecuteTime": {
     "end_time": "2017-05-24T00:11:21.032653Z",
     "start_time": "2017-05-24T00:11:18.683159Z"
    },
    "code_folding": [
     7.0
    ],
    "collapsed": false
   },
   "outputs": [
    {
     "data": {
      "text/plain": [
       "u\"i think is and ala not be of me is is one to moch to is mestlole this the only thas the spenting this but a toositant sar than stelk fyolily still beast blew of complosester of shind fane bunclurite. brinkade orfeet. hamss over a mugh in with there's mast to toittle medlent and-tips siins. it in semile thowy, also minked in but is tore beight and an both mildy fer that the tatned with and aritale besmion, the ton molthing fant to to colour to as wholar somates and whech, think bost of the thunnot that. \""
      ]
     },
     "execution_count": 69,
     "metadata": {},
     "output_type": "execute_result"
    }
   ],
   "source": [
    "prime = 'i think'\n",
    "appea = 1\n",
    "aroma = 1\n",
    "palat = 1\n",
    "taste = 1\n",
    "overa = 1\n",
    "\n",
    "sample, prob = sample_auxiliary(checkpoint=checkpoint, \n",
    "                                n_samples=n_samples, \n",
    "                                lstm_size=lstm_size, \n",
    "                                num_characters=num_characters, \n",
    "                                num_auxi=num_auxiliary, \n",
    "                                appea=appea, \n",
    "                                aroma=aroma, \n",
    "                                palat=palat, \n",
    "                                taste=taste, \n",
    "                                overa=overa, \n",
    "                                chars_auxi=chars_auxi, \n",
    "                                prime=prime, \n",
    "                                top_n=top_n)\n",
    "\n",
    "prime + sample"
   ]
  },
  {
   "cell_type": "code",
   "execution_count": 70,
   "metadata": {
    "ExecuteTime": {
     "end_time": "2017-05-24T00:11:24.769377Z",
     "start_time": "2017-05-24T00:11:21.633750Z"
    },
    "code_folding": [
     7.0
    ],
    "collapsed": false
   },
   "outputs": [
    {
     "data": {
      "text/plain": [
       "u'i thinks. cin this called futle the fur that the houth in ils toone it this of cintorunofs. hend. in the brerots, this buld the cantilering-taps the fiscliced the ono the ancutent merea must inlights histen the sacal of bryloadent to the hartad twound with of stecle seratate one was woascel a lerp multaty bouttre. of all wetevy a toadel a shent a bod the all and the be to suntoor.n the falt and feast and this to actusating, somatensed in fant sild or. and shud mindes be the asterles the far a tentle. bo'"
      ]
     },
     "execution_count": 70,
     "metadata": {},
     "output_type": "execute_result"
    }
   ],
   "source": [
    "prime = 'i think'\n",
    "appea = 0\n",
    "aroma = 0\n",
    "palat = 0\n",
    "taste = 0\n",
    "overa = 0\n",
    "\n",
    "sample, prob = sample_auxiliary(checkpoint=checkpoint, \n",
    "                                n_samples=n_samples, \n",
    "                                lstm_size=lstm_size, \n",
    "                                num_characters=num_characters, \n",
    "                                num_auxi=num_auxiliary, \n",
    "                                appea=appea, \n",
    "                                aroma=aroma, \n",
    "                                palat=palat, \n",
    "                                taste=taste, \n",
    "                                overa=overa, \n",
    "                                chars_auxi=chars_auxi, \n",
    "                                prime=prime, \n",
    "                                top_n=top_n)\n",
    "\n",
    "prime + sample"
   ]
  },
  {
   "cell_type": "code",
   "execution_count": 71,
   "metadata": {
    "ExecuteTime": {
     "end_time": "2017-05-24T00:11:27.667214Z",
     "start_time": "2017-05-24T00:11:25.338712Z"
    },
    "code_folding": [
     7.0
    ],
    "collapsed": false
   },
   "outputs": [
    {
     "data": {
      "text/plain": [
       "u'i thinks is of maltialing apoulcanssing chasciad it bistaton is mome meang seeras. the cyudire wat white mals, that the sers soluce traped are stonte of ala totes, mike the the bits stagaril. on a more and, foolsionive malds it of as musant moross fild in swoll, celled but is flope that the omidilly of the and aldowed was serp thit with ovan innusing but cliss is shade toftores stacklied mancation. bighers.   as, it it flano and streing. also.   be bakart consaitanterers but i contering a curtand is fal'"
      ]
     },
     "execution_count": 71,
     "metadata": {},
     "output_type": "execute_result"
    }
   ],
   "source": [
    "prime = 'i think'\n",
    "appea = 1\n",
    "aroma = 0\n",
    "palat = 0\n",
    "taste = 0\n",
    "overa = 0\n",
    "\n",
    "sample, prob = sample_auxiliary(checkpoint=checkpoint, \n",
    "                                n_samples=n_samples, \n",
    "                                lstm_size=lstm_size, \n",
    "                                num_characters=num_characters, \n",
    "                                num_auxi=num_auxiliary, \n",
    "                                appea=appea, \n",
    "                                aroma=aroma, \n",
    "                                palat=palat, \n",
    "                                taste=taste, \n",
    "                                overa=overa, \n",
    "                                chars_auxi=chars_auxi, \n",
    "                                prime=prime, \n",
    "                                top_n=top_n)\n",
    "\n",
    "prime + sample"
   ]
  },
  {
   "cell_type": "code",
   "execution_count": 72,
   "metadata": {
    "ExecuteTime": {
     "end_time": "2017-05-24T00:11:30.633356Z",
     "start_time": "2017-05-24T00:11:28.279596Z"
    },
    "code_folding": [
     7.0
    ],
    "collapsed": false
   },
   "outputs": [
    {
     "data": {
      "text/plain": [
       "u\"i think in for or ampry thit talch be in wrainty beer to the stelk in i and blarts the ite the ip tlist the ofs mircel mullent also of carate. bit alcanate to insmarcrion of the cerar was bance browlly is to inthosh as of all, the malt' offs to might thing. than and spake beer of i secating as in as the other find, of all the horess furling tadch. tofores aromu of and is tad and was sadel frus forsimine.sters bold in. con insistian wollses some tist taste to and the inclate thos ap cuchalals of the mist\""
      ]
     },
     "execution_count": 72,
     "metadata": {},
     "output_type": "execute_result"
    }
   ],
   "source": [
    "prime = 'i think'\n",
    "appea = 1\n",
    "aroma = 0\n",
    "palat = 0\n",
    "taste = 0\n",
    "overa = 0\n",
    "\n",
    "sample, prob = sample_auxiliary(checkpoint=checkpoint, \n",
    "                                n_samples=n_samples, \n",
    "                                lstm_size=lstm_size, \n",
    "                                num_characters=num_characters, \n",
    "                                num_auxi=num_auxiliary, \n",
    "                                appea=appea, \n",
    "                                aroma=aroma, \n",
    "                                palat=palat, \n",
    "                                taste=taste, \n",
    "                                overa=overa, \n",
    "                                chars_auxi=chars_auxi, \n",
    "                                prime=prime, \n",
    "                                top_n=top_n)\n",
    "\n",
    "prime + sample"
   ]
  },
  {
   "cell_type": "code",
   "execution_count": 73,
   "metadata": {
    "ExecuteTime": {
     "end_time": "2017-05-24T00:11:33.705458Z",
     "start_time": "2017-05-24T00:11:31.245603Z"
    },
    "code_folding": [
     7.0
    ],
    "collapsed": false
   },
   "outputs": [
    {
     "data": {
      "text/plain": [
       "u\"i think cincostlis the conflenceis, applut site baky to in't won't arating smyliling mild is the tatting cas sice of stares chale but as at is adtoast, serlat of stily of of is thus faltic facad it mets wight and is that the brite mistar the tant blilder clalate. it as muthonated. chant tho loothe in off it mitcissancity it i spistery bittle one a tinnsitataber. the bredent otherthey a plonk tutpret on the tound to bamels they fharough in shell warse to adles the spargal it copplexhily. bittershire of t\""
      ]
     },
     "execution_count": 73,
     "metadata": {},
     "output_type": "execute_result"
    }
   ],
   "source": [
    "prime = 'i think'\n",
    "appea = 0\n",
    "aroma = 1\n",
    "palat = 0\n",
    "taste = 0\n",
    "overa = 0\n",
    "\n",
    "sample, prob = sample_auxiliary(checkpoint=checkpoint, \n",
    "                                n_samples=n_samples, \n",
    "                                lstm_size=lstm_size, \n",
    "                                num_characters=num_characters, \n",
    "                                num_auxi=num_auxiliary, \n",
    "                                appea=appea, \n",
    "                                aroma=aroma, \n",
    "                                palat=palat, \n",
    "                                taste=taste, \n",
    "                                overa=overa, \n",
    "                                chars_auxi=chars_auxi, \n",
    "                                prime=prime, \n",
    "                                top_n=top_n)\n",
    "\n",
    "prime + sample"
   ]
  },
  {
   "cell_type": "code",
   "execution_count": 74,
   "metadata": {
    "ExecuteTime": {
     "end_time": "2017-05-24T00:11:36.495040Z",
     "start_time": "2017-05-24T00:11:34.343502Z"
    },
    "code_folding": [
     7.0
    ],
    "collapsed": false
   },
   "outputs": [
    {
     "data": {
      "text/plain": [
       "u\"i thinks wish as flear fimtas wook from copicorad bruttle brease would't that of wantot fomficaticass mend i sharanc fall tos arome stect as as at but sirch to this of me a sarment sincilly smeither flemirons, arcarelity others a tyins well threik that in insterss to smatam. of of meroot it as criit apbers me me stite of, a peich cat to with bastan it bit are mike coop of broscly., frank sases aserarly. the cyleing i'm on a seited, of be sammune cour criss but tou ferlrestal bost sisch mestel on afpines\""
      ]
     },
     "execution_count": 74,
     "metadata": {},
     "output_type": "execute_result"
    }
   ],
   "source": [
    "prime = 'i think'\n",
    "appea = 0\n",
    "aroma = 0\n",
    "palat = 1\n",
    "taste = 0\n",
    "overa = 0\n",
    "\n",
    "sample, prob = sample_auxiliary(checkpoint=checkpoint, \n",
    "                                n_samples=n_samples, \n",
    "                                lstm_size=lstm_size, \n",
    "                                num_characters=num_characters, \n",
    "                                num_auxi=num_auxiliary, \n",
    "                                appea=appea, \n",
    "                                aroma=aroma, \n",
    "                                palat=palat, \n",
    "                                taste=taste, \n",
    "                                overa=overa, \n",
    "                                chars_auxi=chars_auxi, \n",
    "                                prime=prime, \n",
    "                                top_n=top_n)\n",
    "\n",
    "prime + sample"
   ]
  },
  {
   "cell_type": "code",
   "execution_count": 75,
   "metadata": {
    "ExecuteTime": {
     "end_time": "2017-05-24T00:11:39.199046Z",
     "start_time": "2017-05-24T00:11:37.051153Z"
    },
    "code_folding": [
     7.0
    ],
    "collapsed": false
   },
   "outputs": [
    {
     "data": {
      "text/plain": [
       "u\"i thinks this a but of ton's wutices cassiched cen owt, whome fertuch somu is treal beer, ciplouse. sasted who least as. mikes. they, a shorn that tofpes cratery to to of might. it a mught ment a sments somele mise is as it in batstit and the. a terle at be talt to heat ape is the swould bled mats, bring of fane massior one bitter the brich, canduitly i smocters wat at muds fluvour the tharent thas if all a pilnt sone, but staging. stings winicooly to bescirecled of that fandly, firse the titaneds swry \""
      ]
     },
     "execution_count": 75,
     "metadata": {},
     "output_type": "execute_result"
    }
   ],
   "source": [
    "prime = 'i think'\n",
    "appea = 0\n",
    "aroma = 0\n",
    "palat = 0\n",
    "taste = 1\n",
    "overa = 0\n",
    "\n",
    "sample, prob = sample_auxiliary(checkpoint=checkpoint, \n",
    "                                n_samples=n_samples, \n",
    "                                lstm_size=lstm_size, \n",
    "                                num_characters=num_characters, \n",
    "                                num_auxi=num_auxiliary, \n",
    "                                appea=appea, \n",
    "                                aroma=aroma, \n",
    "                                palat=palat, \n",
    "                                taste=taste, \n",
    "                                overa=overa, \n",
    "                                chars_auxi=chars_auxi, \n",
    "                                prime=prime, \n",
    "                                top_n=top_n)\n",
    "\n",
    "prime + sample"
   ]
  },
  {
   "cell_type": "code",
   "execution_count": 76,
   "metadata": {
    "ExecuteTime": {
     "end_time": "2017-05-24T00:11:42.017818Z",
     "start_time": "2017-05-24T00:11:39.732674Z"
    },
    "code_folding": [
     7.0
    ],
    "collapsed": false
   },
   "outputs": [
    {
     "data": {
      "text/plain": [
       "u'i thinks minines from tos apenting smicosicedic both whish,. at style it inchel in malt cicitan by tesmad the a both ale bast well boded sind is on in it the heiss, and serrels wish affire with whele wheceshy and i crirs of of fer at, compled of to as a tatterians afnentasan ased the serd soncarerend whether best cantuth to as the attretives i cymut would teanted was ale the cood conseatoft be copbonials of onamily in solge cheeroff to althour but almant but the firrought, and a somping that which sas a'"
      ]
     },
     "execution_count": 76,
     "metadata": {},
     "output_type": "execute_result"
    }
   ],
   "source": [
    "prime = 'i think'\n",
    "appea = 0\n",
    "aroma = 0\n",
    "palat = 0\n",
    "taste = 0\n",
    "overa = 1\n",
    "\n",
    "sample, prob = sample_auxiliary(checkpoint=checkpoint, \n",
    "                                n_samples=n_samples, \n",
    "                                lstm_size=lstm_size, \n",
    "                                num_characters=num_characters, \n",
    "                                num_auxi=num_auxiliary, \n",
    "                                appea=appea, \n",
    "                                aroma=aroma, \n",
    "                                palat=palat, \n",
    "                                taste=taste, \n",
    "                                overa=overa, \n",
    "                                chars_auxi=chars_auxi, \n",
    "                                prime=prime, \n",
    "                                top_n=top_n)\n",
    "\n",
    "prime + sample"
   ]
  },
  {
   "cell_type": "markdown",
   "metadata": {},
   "source": [
    "## user kegatron"
   ]
  },
  {
   "cell_type": "code",
   "execution_count": 77,
   "metadata": {
    "ExecuteTime": {
     "end_time": "2017-05-24T00:13:25.761057Z",
     "start_time": "2017-05-24T00:13:25.616296Z"
    },
    "collapsed": false
   },
   "outputs": [],
   "source": [
    "%reload_ext autoreload\n",
    "%autoreload 2\n",
    "os.chdir('/Users/troy/PycharmProjects/GCN')\n",
    "from Apply.sample import *\n",
    "from NN.lstm import LSTM\n",
    "from Util.load_data import LoadData\n",
    "from Apply.sample import sample_auxiliary\n",
    "from Util.chars_auxiliary import CharsAuxi"
   ]
  },
  {
   "cell_type": "code",
   "execution_count": 78,
   "metadata": {
    "ExecuteTime": {
     "end_time": "2017-05-24T00:13:26.648555Z",
     "start_time": "2017-05-24T00:13:26.475860Z"
    },
    "code_folding": [
     2.0
    ],
    "collapsed": false
   },
   "outputs": [
    {
     "name": "stdout",
     "output_type": "stream",
     "text": [
      "number of auxiliary, 5\n",
      "number of classes, 56\n",
      "number of batches, 10\n",
      "batch size, 10\n",
      "number of characters per train, 26303\n",
      "number of lstm size, 128\n",
      "number of whole characters of this user, 263030\n"
     ]
    }
   ],
   "source": [
    "_folder = '/Users/troy/PhD_Research/Deep_Learning_with_Recommendation_system/GCN/char-rnn-tf/log_kegatron'\n",
    "_file = 'kegatron.json'\n",
    "with open(os.path.join(_folder, _file)) as _input:\n",
    "    data = json.load(_input)\n",
    "    num_auxiliary = data[0]['number of auxiliary']\n",
    "    print ('number of auxiliary,', num_auxiliary)\n",
    "    \n",
    "    num_characters = data[0]['number of characters']\n",
    "    print ('number of classes,', num_characters)\n",
    "    \n",
    "    num_batches = data[0]['number of batchs']\n",
    "    print ('number of batches,', num_batches)\n",
    "    \n",
    "    batch_size = data[0]['batch_size']\n",
    "    print ('batch size,', batch_size)\n",
    "    \n",
    "    num_char = data[0]['number of characters per train']\n",
    "    print ('number of characters per train,', num_char)\n",
    "\n",
    "    lstm_size = data[0]['lstm_size']\n",
    "    print ('number of lstm size,', lstm_size)\n",
    "    num_layers = data[0]['num_layers']\n",
    "    learning_rate = data[0]['learning rate']\n",
    "    keep_prob = data[0]['keep probability']\n",
    "    epochs = data[0]['epochs']\n",
    "    \n",
    "    print ('number of whole characters of this user,', num_char*num_batches)"
   ]
  },
  {
   "cell_type": "code",
   "execution_count": 79,
   "metadata": {
    "ExecuteTime": {
     "end_time": "2017-05-24T00:14:06.814726Z",
     "start_time": "2017-05-24T00:13:27.370015Z"
    },
    "collapsed": false
   },
   "outputs": [
    {
     "name": "stdout",
     "output_type": "stream",
     "text": [
      "('table name: ', [u'beers', u'reviews'])\n",
      "('keys: ', <type 'list'>)\n"
     ]
    }
   ],
   "source": [
    "n_samples = 500\n",
    "top_n = 10\n",
    "checkpoint = _folder + '/' + 'e49.ckpt'\n",
    "\n",
    "train_user_id = [u'kegatron']\n",
    "load = LoadData('/Users/troy/PhD_Research/Deep_Learning_with_Recommendation_system/GCN')\n",
    "training_df = load.get_df_by_userids(train_user_id)\n",
    "chars_auxi = CharsAuxi(training_df)"
   ]
  },
  {
   "cell_type": "code",
   "execution_count": 80,
   "metadata": {
    "ExecuteTime": {
     "end_time": "2017-05-24T00:14:09.932433Z",
     "start_time": "2017-05-24T00:14:07.538736Z"
    },
    "code_folding": [
     7.0
    ],
    "collapsed": false
   },
   "outputs": [
    {
     "data": {
      "text/plain": [
       "u'i think that to foreant it an thas fol hops though horts. this cask bread to the glass. this and a finger of lice all a medium cacamo seping hops and with charant bitterness. a congaen with a leave swithy with this a bot thas and bitterness to a tlilk hot with! a backes in is to this. medail barenesy insticericillint which chusthing bake this that a mant some bring and swithers ture balant mank of it for fils fresh in the bates that bit wling masking swuth and topped and spice and a beer at the atserely'"
      ]
     },
     "execution_count": 80,
     "metadata": {},
     "output_type": "execute_result"
    }
   ],
   "source": [
    "prime = 'i think'\n",
    "appea = 1\n",
    "aroma = 1\n",
    "palat = 1\n",
    "taste = 1\n",
    "overa = 1\n",
    "\n",
    "sample, prob = sample_auxiliary(checkpoint=checkpoint, \n",
    "                                n_samples=n_samples, \n",
    "                                lstm_size=lstm_size, \n",
    "                                num_characters=num_characters, \n",
    "                                num_auxi=num_auxiliary, \n",
    "                                appea=appea, \n",
    "                                aroma=aroma, \n",
    "                                palat=palat, \n",
    "                                taste=taste, \n",
    "                                overa=overa, \n",
    "                                chars_auxi=chars_auxi, \n",
    "                                prime=prime, \n",
    "                                top_n=top_n)\n",
    "\n",
    "prime + sample"
   ]
  },
  {
   "cell_type": "code",
   "execution_count": 81,
   "metadata": {
    "ExecuteTime": {
     "end_time": "2017-05-24T00:14:13.515700Z",
     "start_time": "2017-05-24T00:14:10.655402Z"
    },
    "code_folding": [
     7.0
    ],
    "collapsed": false
   },
   "outputs": [
    {
     "data": {
      "text/plain": [
       "u'i thinks bitterness of the ton the bonthis and this add, with caramel mike fealer was foam acall bitterness was buar tom would soa swither citrus to the tongee and rasgnow out of acly this taste toos a manisard and some tof this and long.64 oz able candy but the moptle add of assispnet of lot of to the heavy hest almolt stelles hop on sore the bo the acdaed and hean.  this sticky., this wousted at an tants ara thas frothy of light big of foamy mouthed in the back but that bots but some the and dufk.   p'"
      ]
     },
     "execution_count": 81,
     "metadata": {},
     "output_type": "execute_result"
    }
   ],
   "source": [
    "prime = 'i think'\n",
    "appea = 0\n",
    "aroma = 0\n",
    "palat = 0\n",
    "taste = 0\n",
    "overa = 0\n",
    "\n",
    "sample, prob = sample_auxiliary(checkpoint=checkpoint, \n",
    "                                n_samples=n_samples, \n",
    "                                lstm_size=lstm_size, \n",
    "                                num_characters=num_characters, \n",
    "                                num_auxi=num_auxiliary, \n",
    "                                appea=appea, \n",
    "                                aroma=aroma, \n",
    "                                palat=palat, \n",
    "                                taste=taste, \n",
    "                                overa=overa, \n",
    "                                chars_auxi=chars_auxi, \n",
    "                                prime=prime, \n",
    "                                top_n=top_n)\n",
    "\n",
    "prime + sample"
   ]
  },
  {
   "cell_type": "code",
   "execution_count": 82,
   "metadata": {
    "ExecuteTime": {
     "end_time": "2017-05-24T00:14:16.810831Z",
     "start_time": "2017-05-24T00:14:14.249138Z"
    },
    "code_folding": [
     7.0
    ],
    "collapsed": false
   },
   "outputs": [
    {
     "data": {
      "text/plain": [
       "u'i thinks be off-white this but the nose fruit. funtentes spy and here that busnend caramel is a cousd some heavy tartse aras then finishs some that here inthet and reselgot aroul smelling for a frame come boticrntes, and long wourtt minds with medium bodeel fall foa the farter to bies dave and heat that mug dresend to this mome citlus oft in the glass. the nomeceno siking with a toust brying foamy bitter and toasted finger of bitter, but and the mouth. the aroma is barl, this. sits of, a dat at the nemp'"
      ]
     },
     "execution_count": 82,
     "metadata": {},
     "output_type": "execute_result"
    }
   ],
   "source": [
    "prime = 'i think'\n",
    "appea = 1\n",
    "aroma = 0\n",
    "palat = 0\n",
    "taste = 0\n",
    "overa = 0\n",
    "\n",
    "sample, prob = sample_auxiliary(checkpoint=checkpoint, \n",
    "                                n_samples=n_samples, \n",
    "                                lstm_size=lstm_size, \n",
    "                                num_characters=num_characters, \n",
    "                                num_auxi=num_auxiliary, \n",
    "                                appea=appea, \n",
    "                                aroma=aroma, \n",
    "                                palat=palat, \n",
    "                                taste=taste, \n",
    "                                overa=overa, \n",
    "                                chars_auxi=chars_auxi, \n",
    "                                prime=prime, \n",
    "                                top_n=top_n)\n",
    "\n",
    "prime + sample"
   ]
  },
  {
   "cell_type": "code",
   "execution_count": 83,
   "metadata": {
    "ExecuteTime": {
     "end_time": "2017-05-24T00:14:20.079885Z",
     "start_time": "2017-05-24T00:14:17.549352Z"
    },
    "code_folding": [
     7.0
    ],
    "collapsed": false
   },
   "outputs": [
    {
     "data": {
      "text/plain": [
       "u'i thinks fladt thut was wist beal hop arout owel hard at sweetness bringt this sweetness back of the bonthing with, the filising to it is balance for this is cholack. fone same with the feel.   the taste has a bit of leat that molanls the abboonte. the hop to the hice head. this a nomesses as a pigt and sits of to spicey and hoatt bread in the nose in the broog the maved coa fir base is but off the mouth and high asserticrid to moderither around stranging and a parthing the tith medye and foum of the si'"
      ]
     },
     "execution_count": 83,
     "metadata": {},
     "output_type": "execute_result"
    }
   ],
   "source": [
    "prime = 'i think'\n",
    "appea = 1\n",
    "aroma = 0\n",
    "palat = 0\n",
    "taste = 0\n",
    "overa = 0\n",
    "\n",
    "sample, prob = sample_auxiliary(checkpoint=checkpoint, \n",
    "                                n_samples=n_samples, \n",
    "                                lstm_size=lstm_size, \n",
    "                                num_characters=num_characters, \n",
    "                                num_auxi=num_auxiliary, \n",
    "                                appea=appea, \n",
    "                                aroma=aroma, \n",
    "                                palat=palat, \n",
    "                                taste=taste, \n",
    "                                overa=overa, \n",
    "                                chars_auxi=chars_auxi, \n",
    "                                prime=prime, \n",
    "                                top_n=top_n)\n",
    "\n",
    "prime + sample"
   ]
  },
  {
   "cell_type": "code",
   "execution_count": 84,
   "metadata": {
    "ExecuteTime": {
     "end_time": "2017-05-24T00:14:23.484535Z",
     "start_time": "2017-05-24T00:14:20.801374Z"
    },
    "code_folding": [
     7.0
    ],
    "collapsed": false
   },
   "outputs": [
    {
     "data": {
      "text/plain": [
       "u'i thinke sofs though a lipter chunac instith this alv and for a fie it, with wat the taste is a netners it on lops and cavo the polisly, approt in the mouth a ditnes that it that chanky full in the back of the brisg with a soand an a tood into the think which add that swither frosh and choal sonibo as be that and a cofbo the as of lit this swithers i and there, foamy creaminess of the tongue) with a abds tris and the addine that a fruit, sweet smalk alcohal that tang though, with ans salc sam it some ov'"
      ]
     },
     "execution_count": 84,
     "metadata": {},
     "output_type": "execute_result"
    }
   ],
   "source": [
    "prime = 'i think'\n",
    "appea = 0\n",
    "aroma = 1\n",
    "palat = 0\n",
    "taste = 0\n",
    "overa = 0\n",
    "\n",
    "sample, prob = sample_auxiliary(checkpoint=checkpoint, \n",
    "                                n_samples=n_samples, \n",
    "                                lstm_size=lstm_size, \n",
    "                                num_characters=num_characters, \n",
    "                                num_auxi=num_auxiliary, \n",
    "                                appea=appea, \n",
    "                                aroma=aroma, \n",
    "                                palat=palat, \n",
    "                                taste=taste, \n",
    "                                overa=overa, \n",
    "                                chars_auxi=chars_auxi, \n",
    "                                prime=prime, \n",
    "                                top_n=top_n)\n",
    "\n",
    "prime + sample"
   ]
  },
  {
   "cell_type": "code",
   "execution_count": 85,
   "metadata": {
    "ExecuteTime": {
     "end_time": "2017-05-24T00:14:26.470208Z",
     "start_time": "2017-05-24T00:14:24.206916Z"
    },
    "code_folding": [
     7.0
    ],
    "collapsed": false
   },
   "outputs": [
    {
     "data": {
      "text/plain": [
       "u'i thinks whome as of bitterness that creamy character, corop of a bark but be intimaneneast bread. flavor it this some lot up the stratither, but the breaty bringy sighes and a conbusised cortea singennistit topad hid with brawent that casn, a as i leame in a leal. the aremacoln which tanting fingern of here overall with a for iles will be in the goad moderate wooder mo gor ball smole come of the think. and tundoped spite, sticking combud but ipe addes and the and carbonation that heed and actoull some '"
      ]
     },
     "execution_count": 85,
     "metadata": {},
     "output_type": "execute_result"
    }
   ],
   "source": [
    "prime = 'i think'\n",
    "appea = 0\n",
    "aroma = 0\n",
    "palat = 1\n",
    "taste = 0\n",
    "overa = 0\n",
    "\n",
    "sample, prob = sample_auxiliary(checkpoint=checkpoint, \n",
    "                                n_samples=n_samples, \n",
    "                                lstm_size=lstm_size, \n",
    "                                num_characters=num_characters, \n",
    "                                num_auxi=num_auxiliary, \n",
    "                                appea=appea, \n",
    "                                aroma=aroma, \n",
    "                                palat=palat, \n",
    "                                taste=taste, \n",
    "                                overa=overa, \n",
    "                                chars_auxi=chars_auxi, \n",
    "                                prime=prime, \n",
    "                                top_n=top_n)\n",
    "\n",
    "prime + sample"
   ]
  },
  {
   "cell_type": "code",
   "execution_count": 86,
   "metadata": {
    "ExecuteTime": {
     "end_time": "2017-05-24T00:14:29.957611Z",
     "start_time": "2017-05-24T00:14:27.192424Z"
    },
    "code_folding": [
     7.0
    ],
    "collapsed": false
   },
   "outputs": [
    {
     "data": {
      "text/plain": [
       "u'i thinks more that bringer bate slilk carbonation of the monas and floral in the month is taste.   this as a bit warth) and cleomy, with a dart, the rather on this sult moles wan on an out but spice sleright to the comfer, at the promely hog thes me wowten it at i a little this as the bourth of chicacart macchgler a bit foamy lettisrtle, like an but that and this is smabks in the chadalle citrus bottle ine argus speally froig add bod. the simy of the hops a meroulaad as all hoast that mertarable. in thi'"
      ]
     },
     "execution_count": 86,
     "metadata": {},
     "output_type": "execute_result"
    }
   ],
   "source": [
    "prime = 'i think'\n",
    "appea = 0\n",
    "aroma = 0\n",
    "palat = 0\n",
    "taste = 1\n",
    "overa = 0\n",
    "\n",
    "sample, prob = sample_auxiliary(checkpoint=checkpoint, \n",
    "                                n_samples=n_samples, \n",
    "                                lstm_size=lstm_size, \n",
    "                                num_characters=num_characters, \n",
    "                                num_auxi=num_auxiliary, \n",
    "                                appea=appea, \n",
    "                                aroma=aroma, \n",
    "                                palat=palat, \n",
    "                                taste=taste, \n",
    "                                overa=overa, \n",
    "                                chars_auxi=chars_auxi, \n",
    "                                prime=prime, \n",
    "                                top_n=top_n)\n",
    "\n",
    "prime + sample"
   ]
  },
  {
   "cell_type": "code",
   "execution_count": 87,
   "metadata": {
    "ExecuteTime": {
     "end_time": "2017-05-24T00:14:32.849956Z",
     "start_time": "2017-05-24T00:14:30.688996Z"
    },
    "code_folding": [
     7.0
    ],
    "collapsed": false
   },
   "outputs": [
    {
     "data": {
      "text/plain": [
       "u\"i thinks and crinp of a touch with south, sweetness and fealing firl foo a carbonation, songif, is creamy meriuthing a retention, and coast some at't feel fuverly this is oas ip  to it that some of this and and that wopgiat actarness with some backed that this is foum that canky the brite in crace of stovely arat tas stucky mo this one feeling some hot mo this and that menle a nise ime acamed from this henp by off of this thes the rangers has a citrus and thin feel to an head to masted bit of crasbtes b\""
      ]
     },
     "execution_count": 87,
     "metadata": {},
     "output_type": "execute_result"
    }
   ],
   "source": [
    "prime = 'i think'\n",
    "appea = 0\n",
    "aroma = 0\n",
    "palat = 0\n",
    "taste = 0\n",
    "overa = 1\n",
    "\n",
    "sample, prob = sample_auxiliary(checkpoint=checkpoint, \n",
    "                                n_samples=n_samples, \n",
    "                                lstm_size=lstm_size, \n",
    "                                num_characters=num_characters, \n",
    "                                num_auxi=num_auxiliary, \n",
    "                                appea=appea, \n",
    "                                aroma=aroma, \n",
    "                                palat=palat, \n",
    "                                taste=taste, \n",
    "                                overa=overa, \n",
    "                                chars_auxi=chars_auxi, \n",
    "                                prime=prime, \n",
    "                                top_n=top_n)\n",
    "\n",
    "prime + sample"
   ]
  },
  {
   "cell_type": "markdown",
   "metadata": {},
   "source": [
    "## user kojevergas"
   ]
  },
  {
   "cell_type": "code",
   "execution_count": 88,
   "metadata": {
    "ExecuteTime": {
     "end_time": "2017-05-24T00:15:59.620681Z",
     "start_time": "2017-05-24T00:15:59.436128Z"
    },
    "collapsed": false
   },
   "outputs": [],
   "source": [
    "%reload_ext autoreload\n",
    "%autoreload 2\n",
    "os.chdir('/Users/troy/PycharmProjects/GCN')\n",
    "from Apply.sample import *\n",
    "from NN.lstm import LSTM\n",
    "from Util.load_data import LoadData\n",
    "from Apply.sample import sample_auxiliary\n",
    "from Util.chars_auxiliary import CharsAuxi"
   ]
  },
  {
   "cell_type": "code",
   "execution_count": 89,
   "metadata": {
    "ExecuteTime": {
     "end_time": "2017-05-24T00:16:00.662391Z",
     "start_time": "2017-05-24T00:16:00.467968Z"
    },
    "code_folding": [
     2.0
    ],
    "collapsed": false
   },
   "outputs": [
    {
     "name": "stdout",
     "output_type": "stream",
     "text": [
      "number of auxiliary, 5\n",
      "number of classes, 59\n",
      "number of batches, 10\n",
      "batch size, 10\n",
      "number of characters per train, 9506\n",
      "number of lstm size, 128\n",
      "number of whole characters of this user, 95060\n"
     ]
    }
   ],
   "source": [
    "_folder = '/Users/troy/PhD_Research/Deep_Learning_with_Recommendation_system/GCN/char-rnn-tf/log_kojevergas'\n",
    "_file = 'kojevergas.json'\n",
    "with open(os.path.join(_folder, _file)) as _input:\n",
    "    data = json.load(_input)\n",
    "    num_auxiliary = data[0]['number of auxiliary']\n",
    "    print ('number of auxiliary,', num_auxiliary)\n",
    "    \n",
    "    num_characters = data[0]['number of characters']\n",
    "    print ('number of classes,', num_characters)\n",
    "    \n",
    "    num_batches = data[0]['number of batchs']\n",
    "    print ('number of batches,', num_batches)\n",
    "    \n",
    "    batch_size = data[0]['batch_size']\n",
    "    print ('batch size,', batch_size)\n",
    "    \n",
    "    num_char = data[0]['number of characters per train']\n",
    "    print ('number of characters per train,', num_char)\n",
    "\n",
    "    lstm_size = data[0]['lstm_size']\n",
    "    print ('number of lstm size,', lstm_size)\n",
    "    num_layers = data[0]['num_layers']\n",
    "    learning_rate = data[0]['learning rate']\n",
    "    keep_prob = data[0]['keep probability']\n",
    "    epochs = data[0]['epochs']\n",
    "    \n",
    "    print ('number of whole characters of this user,', num_char*num_batches)"
   ]
  },
  {
   "cell_type": "code",
   "execution_count": 90,
   "metadata": {
    "ExecuteTime": {
     "end_time": "2017-05-24T00:16:35.934685Z",
     "start_time": "2017-05-24T00:16:01.480499Z"
    },
    "collapsed": false
   },
   "outputs": [
    {
     "name": "stdout",
     "output_type": "stream",
     "text": [
      "('table name: ', [u'beers', u'reviews'])\n",
      "('keys: ', <type 'list'>)\n"
     ]
    }
   ],
   "source": [
    "n_samples = 500\n",
    "top_n = 10\n",
    "checkpoint = _folder + '/' + 'e49.ckpt'\n",
    "\n",
    "train_user_id = [u'kojevergas']\n",
    "load = LoadData('/Users/troy/PhD_Research/Deep_Learning_with_Recommendation_system/GCN')\n",
    "training_df = load.get_df_by_userids(train_user_id)\n",
    "chars_auxi = CharsAuxi(training_df)"
   ]
  },
  {
   "cell_type": "code",
   "execution_count": 91,
   "metadata": {
    "ExecuteTime": {
     "end_time": "2017-05-24T00:16:39.089635Z",
     "start_time": "2017-05-24T00:16:36.782364Z"
    },
    "code_folding": [
     7.0
    ],
    "collapsed": false
   },
   "outputs": [
    {
     "data": {
      "text/plain": [
       "u'i thinklite nrin aft con nhanacrlinly is bord. si te corg sadis ir sr:  lleteclleneth. ot so at ant ot tosarl i brile  nry boles. berten tor sisge it amote tetost, and  p nolser neit.  t tos a thatoll tostte a tecty, fo tity com ile tocers nrita tile titod.  nl chilatent bom bract co i tontll ceaas the stoted. atenele ard  rost ferliten. i thar stid  t ted ase chods ant brartitols tirorleet if brynr nost toti  nam or sinaase at nhleseteit at op seoti chles ir it som not boat congy beem  ndror cunas alis'"
      ]
     },
     "execution_count": 91,
     "metadata": {},
     "output_type": "execute_result"
    }
   ],
   "source": [
    "prime = 'i think'\n",
    "appea = 1\n",
    "aroma = 1\n",
    "palat = 1\n",
    "taste = 1\n",
    "overa = 1\n",
    "\n",
    "sample, prob = sample_auxiliary(checkpoint=checkpoint, \n",
    "                                n_samples=n_samples, \n",
    "                                lstm_size=lstm_size, \n",
    "                                num_characters=num_characters, \n",
    "                                num_auxi=num_auxiliary, \n",
    "                                appea=appea, \n",
    "                                aroma=aroma, \n",
    "                                palat=palat, \n",
    "                                taste=taste, \n",
    "                                overa=overa, \n",
    "                                chars_auxi=chars_auxi, \n",
    "                                prime=prime, \n",
    "                                top_n=top_n)\n",
    "\n",
    "prime + sample"
   ]
  },
  {
   "cell_type": "code",
   "execution_count": 92,
   "metadata": {
    "ExecuteTime": {
     "end_time": "2017-05-24T00:16:42.689204Z",
     "start_time": "2017-05-24T00:16:39.953870Z"
    },
    "code_folding": [
     7.0
    ],
    "collapsed": false
   },
   "outputs": [
    {
     "data": {
      "text/plain": [
       "u'i thinkt nam totele.. a tenged antteds frar i settelly  nsedete teal fetitil nunger. atan is a cr: o  faninars calten, if ins thirh ter thas if tham.  toliat or. of fid aneet srety coc i dosse. belirg aspesia blonere., sirl  sess tolitoser a dum as tite on ilaathte thy on bhidet o tlote bolime toneast fanded. bad   bom nol am. nes cut be so ibill in. bran the  be boans soters in,. fetich it fhacomes coang noth to clis ta a othoarnoto anprrect fime ilden tenle cud sisgy cors, abped torinted cas a beoche,'"
      ]
     },
     "execution_count": 92,
     "metadata": {},
     "output_type": "execute_result"
    }
   ],
   "source": [
    "prime = 'i think'\n",
    "appea = 0\n",
    "aroma = 0\n",
    "palat = 0\n",
    "taste = 0\n",
    "overa = 0\n",
    "\n",
    "sample, prob = sample_auxiliary(checkpoint=checkpoint, \n",
    "                                n_samples=n_samples, \n",
    "                                lstm_size=lstm_size, \n",
    "                                num_characters=num_characters, \n",
    "                                num_auxi=num_auxiliary, \n",
    "                                appea=appea, \n",
    "                                aroma=aroma, \n",
    "                                palat=palat, \n",
    "                                taste=taste, \n",
    "                                overa=overa, \n",
    "                                chars_auxi=chars_auxi, \n",
    "                                prime=prime, \n",
    "                                top_n=top_n)\n",
    "\n",
    "prime + sample"
   ]
  },
  {
   "cell_type": "code",
   "execution_count": 93,
   "metadata": {
    "ExecuteTime": {
     "end_time": "2017-05-24T00:16:45.981416Z",
     "start_time": "2017-05-24T00:16:43.574003Z"
    },
    "code_folding": [
     7.0
    ],
    "collapsed": false
   },
   "outputs": [
    {
     "data": {
      "text/plain": [
       "u'i thinklin  ne sarsed bheteanteted slot   trotalendy fited apic bi neres. chlo netocatent bamolict tiso tett tudeetet to   balter ine it ip and thor faltirods ted taar. thats in tissy s ipeetet fantellal srete athid boteled colar oths sirt on. songe tars on a thuce o tet this nrlysid at, feet ate badang,  lenam nodet tle theet tesds bee  t alt sroard and at cacocedec or os the nalgosianloclre crone tret neter ant. ibt.. trend the a daradh. alp   a tenget tens thas caat, tei noltest a smat tu cerllarlind'"
      ]
     },
     "execution_count": 93,
     "metadata": {},
     "output_type": "execute_result"
    }
   ],
   "source": [
    "prime = 'i think'\n",
    "appea = 1\n",
    "aroma = 0\n",
    "palat = 0\n",
    "taste = 0\n",
    "overa = 0\n",
    "\n",
    "sample, prob = sample_auxiliary(checkpoint=checkpoint, \n",
    "                                n_samples=n_samples, \n",
    "                                lstm_size=lstm_size, \n",
    "                                num_characters=num_characters, \n",
    "                                num_auxi=num_auxiliary, \n",
    "                                appea=appea, \n",
    "                                aroma=aroma, \n",
    "                                palat=palat, \n",
    "                                taste=taste, \n",
    "                                overa=overa, \n",
    "                                chars_auxi=chars_auxi, \n",
    "                                prime=prime, \n",
    "                                top_n=top_n)\n",
    "\n",
    "prime + sample"
   ]
  },
  {
   "cell_type": "code",
   "execution_count": 94,
   "metadata": {
    "ExecuteTime": {
     "end_time": "2017-05-24T00:16:49.005286Z",
     "start_time": "2017-05-24T00:16:46.841678Z"
    },
    "code_folding": [
     7.0
    ],
    "collapsed": false
   },
   "outputs": [
    {
     "data": {
      "text/plain": [
       "u\"i thinkel. blene an nonoc  nlacotoals i cleld curlr on is ose  t tantels. sene of o fhith. ceasad is boco  r a boctilidos. obe, aton sont nosele bulgoled tod. at  r  ptade tess a arars cidhe ster fiti thalt an suth tond o at. a tatyr stetili cores. i coced sil  ntertit cirl    teteth alatt.  s if's cresd arse. on onint. caanired i sith srirenislet if. nulsy ty birtat. nrot ald iss ang cralell  liry am os' sfeni setene the no it senecet o i te beta neid  n o is trat.. cetat ot ate bralelrear blllla ana b\""
      ]
     },
     "execution_count": 94,
     "metadata": {},
     "output_type": "execute_result"
    }
   ],
   "source": [
    "prime = 'i think'\n",
    "appea = 1\n",
    "aroma = 0\n",
    "palat = 0\n",
    "taste = 0\n",
    "overa = 0\n",
    "\n",
    "sample, prob = sample_auxiliary(checkpoint=checkpoint, \n",
    "                                n_samples=n_samples, \n",
    "                                lstm_size=lstm_size, \n",
    "                                num_characters=num_characters, \n",
    "                                num_auxi=num_auxiliary, \n",
    "                                appea=appea, \n",
    "                                aroma=aroma, \n",
    "                                palat=palat, \n",
    "                                taste=taste, \n",
    "                                overa=overa, \n",
    "                                chars_auxi=chars_auxi, \n",
    "                                prime=prime, \n",
    "                                top_n=top_n)\n",
    "\n",
    "prime + sample"
   ]
  },
  {
   "cell_type": "code",
   "execution_count": 95,
   "metadata": {
    "ExecuteTime": {
     "end_time": "2017-05-24T00:16:52.300257Z",
     "start_time": "2017-05-24T00:16:49.797627Z"
    },
    "code_folding": [
     7.0
    ],
    "collapsed": false
   },
   "outputs": [
    {
     "data": {
      "text/plain": [
       "u'i thinkly bentt torsine fhelirg thind bude fart, brorisithiat sennollrt suns a abate os or sans ibd tice. ir ath to boc ass bit a cot fit alt cota at tulteed borlited oneteislisend tanarg nrenicind the beit fold. ol. base imtle.  ns. tas numes os thr nit fot. tocot i the if. tecand.  teset bi te try sellids  n fes othorh, aflended thler thimh. to t: nreil ir ined te anadt alt bans. flei serant fart ab setotes in i mumh in braant ter falesilelod ats i bor o ditot tut fi if the fitad. ant ilite torore nra'"
      ]
     },
     "execution_count": 95,
     "metadata": {},
     "output_type": "execute_result"
    }
   ],
   "source": [
    "prime = 'i think'\n",
    "appea = 0\n",
    "aroma = 1\n",
    "palat = 0\n",
    "taste = 0\n",
    "overa = 0\n",
    "\n",
    "sample, prob = sample_auxiliary(checkpoint=checkpoint, \n",
    "                                n_samples=n_samples, \n",
    "                                lstm_size=lstm_size, \n",
    "                                num_characters=num_characters, \n",
    "                                num_auxi=num_auxiliary, \n",
    "                                appea=appea, \n",
    "                                aroma=aroma, \n",
    "                                palat=palat, \n",
    "                                taste=taste, \n",
    "                                overa=overa, \n",
    "                                chars_auxi=chars_auxi, \n",
    "                                prime=prime, \n",
    "                                top_n=top_n)\n",
    "\n",
    "prime + sample"
   ]
  },
  {
   "cell_type": "code",
   "execution_count": 96,
   "metadata": {
    "ExecuteTime": {
     "end_time": "2017-05-24T00:16:55.354546Z",
     "start_time": "2017-05-24T00:16:53.087331Z"
    },
    "code_folding": [
     7.0
    ],
    "collapsed": false
   },
   "outputs": [
    {
     "data": {
      "text/plain": [
       "u'i think beindeanned, nintinarargen. ants freat. frors. fua oms fes fhenatolirinn a dtitet, foled nename. tita the fonne tretety nlir ilsrec cenntelta tyesirardes an  btenamt  nedly srete tistilt tuns brhete non cith in sadirt alllorim and soat  t tlaa the beed thlsesirg fat  nt tes boreertta  n nelrenlon om sealt tom cictle o cate tat s tente stet thirans title.. o t: cund fu nit bet boc  foatele thlatotoly oreer soac nlleneco  sene ons ife, the and, the  titar i sty si thi in ins simhed irty ntad sisg '"
      ]
     },
     "execution_count": 96,
     "metadata": {},
     "output_type": "execute_result"
    }
   ],
   "source": [
    "prime = 'i think'\n",
    "appea = 0\n",
    "aroma = 0\n",
    "palat = 1\n",
    "taste = 0\n",
    "overa = 0\n",
    "\n",
    "sample, prob = sample_auxiliary(checkpoint=checkpoint, \n",
    "                                n_samples=n_samples, \n",
    "                                lstm_size=lstm_size, \n",
    "                                num_characters=num_characters, \n",
    "                                num_auxi=num_auxiliary, \n",
    "                                appea=appea, \n",
    "                                aroma=aroma, \n",
    "                                palat=palat, \n",
    "                                taste=taste, \n",
    "                                overa=overa, \n",
    "                                chars_auxi=chars_auxi, \n",
    "                                prime=prime, \n",
    "                                top_n=top_n)\n",
    "\n",
    "prime + sample"
   ]
  },
  {
   "cell_type": "code",
   "execution_count": 97,
   "metadata": {
    "ExecuteTime": {
     "end_time": "2017-05-24T00:16:58.138637Z",
     "start_time": "2017-05-24T00:16:56.169523Z"
    },
    "code_folding": [
     7.0
    ],
    "collapsed": false
   },
   "outputs": [
    {
     "data": {
      "text/plain": [
       "u'i thinkotet naciles sleet tunanged boster as t: inde teniarat im tath finlot  ti i cul soneteine. cetty, culenlann the fotts ant nrlinte.  st brete nandimidt tetostle bears ce a int biare, fon noleliacithy. and criseela os as nha cont bod o dealss ol totes fite. sant bome cod, art  bles. toat ot ilad. iralt trande is beltold  r ines, te and,  monstatt athe the asde i biar cundte boc o boce tert tinte cranter botlators bort colos institted in taad it ann nann. bald bitels ang tind saclit frasdele. neseld'"
      ]
     },
     "execution_count": 97,
     "metadata": {},
     "output_type": "execute_result"
    }
   ],
   "source": [
    "prime = 'i think'\n",
    "appea = 0\n",
    "aroma = 0\n",
    "palat = 0\n",
    "taste = 1\n",
    "overa = 0\n",
    "\n",
    "sample, prob = sample_auxiliary(checkpoint=checkpoint, \n",
    "                                n_samples=n_samples, \n",
    "                                lstm_size=lstm_size, \n",
    "                                num_characters=num_characters, \n",
    "                                num_auxi=num_auxiliary, \n",
    "                                appea=appea, \n",
    "                                aroma=aroma, \n",
    "                                palat=palat, \n",
    "                                taste=taste, \n",
    "                                overa=overa, \n",
    "                                chars_auxi=chars_auxi, \n",
    "                                prime=prime, \n",
    "                                top_n=top_n)\n",
    "\n",
    "prime + sample"
   ]
  },
  {
   "cell_type": "code",
   "execution_count": 98,
   "metadata": {
    "ExecuteTime": {
     "end_time": "2017-05-24T00:17:01.260272Z",
     "start_time": "2017-05-24T00:16:58.927350Z"
    },
    "code_folding": [
     7.0
    ],
    "collapsed": false
   },
   "outputs": [
    {
     "data": {
      "text/plain": [
       "u'i think nononalg  les teren om tilo toltentat it   bot stryeins. satald o sot sand ine  t bath i brenle if sand a id  m s thy sonnams fritt alte at flateand cheadale nirta ant. at. te terat nisint be ile afd nalis tlast thins slant, buim tocer, cind, cudse sling aft on bat ams afteir at inenis nilot   mers a asit i and fot imhit fumt a bit. tocr tuch  s sresiane bacim troreele sronll trel o teds castot  nd sleoracaclels  ntoset be fate issely case. sontt ty in nranles. and is fonaa to thinlild onh niann'"
      ]
     },
     "execution_count": 98,
     "metadata": {},
     "output_type": "execute_result"
    }
   ],
   "source": [
    "prime = 'i think'\n",
    "appea = 0\n",
    "aroma = 0\n",
    "palat = 0\n",
    "taste = 0\n",
    "overa = 1\n",
    "\n",
    "sample, prob = sample_auxiliary(checkpoint=checkpoint, \n",
    "                                n_samples=n_samples, \n",
    "                                lstm_size=lstm_size, \n",
    "                                num_characters=num_characters, \n",
    "                                num_auxi=num_auxiliary, \n",
    "                                appea=appea, \n",
    "                                aroma=aroma, \n",
    "                                palat=palat, \n",
    "                                taste=taste, \n",
    "                                overa=overa, \n",
    "                                chars_auxi=chars_auxi, \n",
    "                                prime=prime, \n",
    "                                top_n=top_n)\n",
    "\n",
    "prime + sample"
   ]
  },
  {
   "cell_type": "markdown",
   "metadata": {},
   "source": [
    "## user wootenjones"
   ]
  },
  {
   "cell_type": "code",
   "execution_count": 99,
   "metadata": {
    "ExecuteTime": {
     "end_time": "2017-05-24T00:20:07.325273Z",
     "start_time": "2017-05-24T00:20:07.098563Z"
    },
    "collapsed": false
   },
   "outputs": [],
   "source": [
    "%reload_ext autoreload\n",
    "%autoreload 2\n",
    "os.chdir('/Users/troy/PycharmProjects/GCN')\n",
    "from Apply.sample import *\n",
    "from NN.lstm import LSTM\n",
    "from Util.load_data import LoadData\n",
    "from Apply.sample import sample_auxiliary\n",
    "from Util.chars_auxiliary import CharsAuxi"
   ]
  },
  {
   "cell_type": "code",
   "execution_count": 100,
   "metadata": {
    "ExecuteTime": {
     "end_time": "2017-05-24T00:20:08.520099Z",
     "start_time": "2017-05-24T00:20:08.284142Z"
    },
    "code_folding": [
     2.0
    ],
    "collapsed": false
   },
   "outputs": [
    {
     "name": "stdout",
     "output_type": "stream",
     "text": [
      "number of auxiliary, 5\n",
      "number of classes, 45\n",
      "number of batches, 10\n",
      "batch size, 10\n",
      "number of characters per train, 67\n",
      "number of lstm size, 128\n",
      "number of whole characters of this user, 670\n"
     ]
    }
   ],
   "source": [
    "_folder = '/Users/troy/PhD_Research/Deep_Learning_with_Recommendation_system/GCN/char-rnn-tf/log_wootenjones'\n",
    "_file = 'wootenjones.json'\n",
    "with open(os.path.join(_folder, _file)) as _input:\n",
    "    data = json.load(_input)\n",
    "    num_auxiliary = data[0]['number of auxiliary']\n",
    "    print ('number of auxiliary,', num_auxiliary)\n",
    "    \n",
    "    num_characters = data[0]['number of characters']\n",
    "    print ('number of classes,', num_characters)\n",
    "    \n",
    "    num_batches = data[0]['number of batchs']\n",
    "    print ('number of batches,', num_batches)\n",
    "    \n",
    "    batch_size = data[0]['batch_size']\n",
    "    print ('batch size,', batch_size)\n",
    "    \n",
    "    num_char = data[0]['number of characters per train']\n",
    "    print ('number of characters per train,', num_char)\n",
    "\n",
    "    lstm_size = data[0]['lstm_size']\n",
    "    print ('number of lstm size,', lstm_size)\n",
    "    num_layers = data[0]['num_layers']\n",
    "    learning_rate = data[0]['learning rate']\n",
    "    keep_prob = data[0]['keep probability']\n",
    "    epochs = data[0]['epochs']\n",
    "    \n",
    "    print ('number of whole characters of this user,', num_char*num_batches)"
   ]
  },
  {
   "cell_type": "code",
   "execution_count": 101,
   "metadata": {
    "ExecuteTime": {
     "end_time": "2017-05-24T00:20:38.586329Z",
     "start_time": "2017-05-24T00:20:09.447211Z"
    },
    "collapsed": false
   },
   "outputs": [
    {
     "name": "stdout",
     "output_type": "stream",
     "text": [
      "('table name: ', [u'beers', u'reviews'])\n",
      "('keys: ', <type 'list'>)\n"
     ]
    }
   ],
   "source": [
    "n_samples = 500\n",
    "top_n = 10\n",
    "checkpoint = _folder + '/' + 'e49.ckpt'\n",
    "\n",
    "train_user_id = [u'wootenjones']\n",
    "load = LoadData('/Users/troy/PhD_Research/Deep_Learning_with_Recommendation_system/GCN')\n",
    "training_df = load.get_df_by_userids(train_user_id)\n",
    "chars_auxi = CharsAuxi(training_df)"
   ]
  },
  {
   "cell_type": "code",
   "execution_count": 102,
   "metadata": {
    "ExecuteTime": {
     "end_time": "2017-05-24T00:20:41.716502Z",
     "start_time": "2017-05-24T00:20:39.478068Z"
    },
    "code_folding": [
     7.0
    ],
    "collapsed": false
   },
   "outputs": [
    {
     "data": {
      "text/plain": [
       "u'i think bosadly faront aver this fil noct ald thocaranger, a lotredy canamel sonatoll an a tlacing carbonitiove fould a latats, bolttine bitk, caramel, slourd insligg sness.  fouthfeel: tinh ap thick and furannetle hetilint ount boleticg, sotlonation?.  mauthfeel: bitl of a nittolont, i a richtat. nuci cavilith and franmering, i cofhints bonete folsincing.teotarantlo. sisnice cantone, finish.  pronacalce, bo wound ar blacangless.  would ome i nattereonetention. troals and than. sweer-wink an bight hom. '"
      ]
     },
     "execution_count": 102,
     "metadata": {},
     "output_type": "execute_result"
    }
   ],
   "source": [
    "prime = 'i think'\n",
    "appea = 1\n",
    "aroma = 1\n",
    "palat = 1\n",
    "taste = 1\n",
    "overa = 1\n",
    "\n",
    "sample, prob = sample_auxiliary(checkpoint=checkpoint, \n",
    "                                n_samples=n_samples, \n",
    "                                lstm_size=lstm_size, \n",
    "                                num_characters=num_characters, \n",
    "                                num_auxi=num_auxiliary, \n",
    "                                appea=appea, \n",
    "                                aroma=aroma, \n",
    "                                palat=palat, \n",
    "                                taste=taste, \n",
    "                                overa=overa, \n",
    "                                chars_auxi=chars_auxi, \n",
    "                                prime=prime, \n",
    "                                top_n=top_n)\n",
    "\n",
    "prime + sample"
   ]
  },
  {
   "cell_type": "code",
   "execution_count": 103,
   "metadata": {
    "ExecuteTime": {
     "end_time": "2017-05-24T00:20:45.157707Z",
     "start_time": "2017-05-24T00:20:42.611631Z"
    },
    "code_folding": [
     7.0
    ],
    "collapsed": false
   },
   "outputs": [
    {
     "data": {
      "text/plain": [
       "u\"i thinkabreeng inglasty: a balances ange: bole fovassy ane wo ad anter.a munte buat onaste: molove onby a aatathere apd achopereuwat wel satess.  pootyd ap barersbers charictination omith a bolave or cratence: and ous caaleulh the cersouresseonatyy thac ingacing.  smell: wovere get oferhlaginceli claringarish ale, with to at fheat omight boutifalter, twreved sos wet thy. i foa caramele, noced ter cieningasist,, amdonity: ceotigente: non, attinasher boaimelelo, fouv, alt of on's atdiness forebhercletante\""
      ]
     },
     "execution_count": 103,
     "metadata": {},
     "output_type": "execute_result"
    }
   ],
   "source": [
    "prime = 'i think'\n",
    "appea = 0\n",
    "aroma = 0\n",
    "palat = 0\n",
    "taste = 0\n",
    "overa = 0\n",
    "\n",
    "sample, prob = sample_auxiliary(checkpoint=checkpoint, \n",
    "                                n_samples=n_samples, \n",
    "                                lstm_size=lstm_size, \n",
    "                                num_characters=num_characters, \n",
    "                                num_auxi=num_auxiliary, \n",
    "                                appea=appea, \n",
    "                                aroma=aroma, \n",
    "                                palat=palat, \n",
    "                                taste=taste, \n",
    "                                overa=overa, \n",
    "                                chars_auxi=chars_auxi, \n",
    "                                prime=prime, \n",
    "                                top_n=top_n)\n",
    "\n",
    "prime + sample"
   ]
  },
  {
   "cell_type": "code",
   "execution_count": 104,
   "metadata": {
    "ExecuteTime": {
     "end_time": "2017-05-24T00:20:48.323080Z",
     "start_time": "2017-05-24T00:20:46.013856Z"
    },
    "code_folding": [
     7.0
    ],
    "collapsed": false
   },
   "outputs": [
    {
     "data": {
      "text/plain": [
       "u'i think, a perary as hoplicalianted clicyle bith wet malanderecere wathy brawk as a tiry bith one wraiseronatees, i an-elt o with a rottle carcand wach anatlinest the tacteratterested ingace aroctle magkithe anty hinttesteet hid one in a ometliness canbesleg, faring os on the faringable, wach with a nettle, nrglish any, tweer. noter af ceunonabonataely ir in fanweetention salle beacacancisnation is and asdewatto taste: bigilely with iltherescink wathithiges beintony a treas tos thac boundedistne taste: '"
      ]
     },
     "execution_count": 104,
     "metadata": {},
     "output_type": "execute_result"
    }
   ],
   "source": [
    "prime = 'i think'\n",
    "appea = 1\n",
    "aroma = 0\n",
    "palat = 0\n",
    "taste = 0\n",
    "overa = 0\n",
    "\n",
    "sample, prob = sample_auxiliary(checkpoint=checkpoint, \n",
    "                                n_samples=n_samples, \n",
    "                                lstm_size=lstm_size, \n",
    "                                num_characters=num_characters, \n",
    "                                num_auxi=num_auxiliary, \n",
    "                                appea=appea, \n",
    "                                aroma=aroma, \n",
    "                                palat=palat, \n",
    "                                taste=taste, \n",
    "                                overa=overa, \n",
    "                                chars_auxi=chars_auxi, \n",
    "                                prime=prime, \n",
    "                                top_n=top_n)\n",
    "\n",
    "prime + sample"
   ]
  },
  {
   "cell_type": "code",
   "execution_count": 105,
   "metadata": {
    "ExecuteTime": {
     "end_time": "2017-05-24T00:20:51.502655Z",
     "start_time": "2017-05-24T00:20:49.180706Z"
    },
    "code_folding": [
     7.0
    ],
    "collapsed": false
   },
   "outputs": [
    {
     "data": {
      "text/plain": [
       "u'i thinkibo ingo finss with carronathelise anled nithocy, foutlagers angep ore a nitho bighsy onofolation on blicgle.e smell: a sichile te amility: froesd amt roande smell: taste: cooningerecise i anded sweeta with wathfeel, chatanty: indith. setses chotility:.fhewi cyonotwees fhir watt, mhoandyy wourd bretactarinto mattleer.  appearante: a boudtanci woty oneyatent.  mouthfeel: chamight tle a tut inthe al with with conamales weght calting, a nittle bit cartildelingabanat anoweecinh thoninasbely and chead'"
      ]
     },
     "execution_count": 105,
     "metadata": {},
     "output_type": "execute_result"
    }
   ],
   "source": [
    "prime = 'i think'\n",
    "appea = 1\n",
    "aroma = 0\n",
    "palat = 0\n",
    "taste = 0\n",
    "overa = 0\n",
    "\n",
    "sample, prob = sample_auxiliary(checkpoint=checkpoint, \n",
    "                                n_samples=n_samples, \n",
    "                                lstm_size=lstm_size, \n",
    "                                num_characters=num_characters, \n",
    "                                num_auxi=num_auxiliary, \n",
    "                                appea=appea, \n",
    "                                aroma=aroma, \n",
    "                                palat=palat, \n",
    "                                taste=taste, \n",
    "                                overa=overa, \n",
    "                                chars_auxi=chars_auxi, \n",
    "                                prime=prime, \n",
    "                                top_n=top_n)\n",
    "\n",
    "prime + sample"
   ]
  },
  {
   "cell_type": "code",
   "execution_count": 106,
   "metadata": {
    "ExecuteTime": {
     "end_time": "2017-05-24T00:20:54.579725Z",
     "start_time": "2017-05-24T00:20:52.336850Z"
    },
    "code_folding": [
     7.0
    ],
    "collapsed": false
   },
   "outputs": [
    {
     "data": {
      "text/plain": [
       "u'i think weu hinle master it beowelseaninchetangibe i fanascelow. forpaome and hrocolamality sweintabher. as i sheonetteicathery malt rinkasules a night al a little asd thag hisger af cruane tlis a with as with broanted wreace. ciramely. samseer, and tlas beew a boattery thoweent inger otes to merost anothere. sads sanad fivere and fheaty i cird al tels bighng, i cound foreryallacing anucance: not fearatle ceurichat isthe frown, and sonealacinger, caraoceen anted. asdy: bul on the nitle at amorighl and c'"
      ]
     },
     "execution_count": 106,
     "metadata": {},
     "output_type": "execute_result"
    }
   ],
   "source": [
    "prime = 'i think'\n",
    "appea = 0\n",
    "aroma = 1\n",
    "palat = 0\n",
    "taste = 0\n",
    "overa = 0\n",
    "\n",
    "sample, prob = sample_auxiliary(checkpoint=checkpoint, \n",
    "                                n_samples=n_samples, \n",
    "                                lstm_size=lstm_size, \n",
    "                                num_characters=num_characters, \n",
    "                                num_auxi=num_auxiliary, \n",
    "                                appea=appea, \n",
    "                                aroma=aroma, \n",
    "                                palat=palat, \n",
    "                                taste=taste, \n",
    "                                overa=overa, \n",
    "                                chars_auxi=chars_auxi, \n",
    "                                prime=prime, \n",
    "                                top_n=top_n)\n",
    "\n",
    "prime + sample"
   ]
  },
  {
   "cell_type": "code",
   "execution_count": 107,
   "metadata": {
    "ExecuteTime": {
     "end_time": "2017-05-24T00:20:57.803887Z",
     "start_time": "2017-05-24T00:20:55.456873Z"
    },
    "code_folding": [
     7.0
    ],
    "collapsed": false
   },
   "outputs": [
    {
     "data": {
      "text/plain": [
       "u'i thinkagees with filrethe fair in a toust bacresich ao and i fisle calaon fatlout feusd and nit wat inte a riuls assin srodaceet on. supeps imile mott beer, nitto a good night thaci i axdenace alinkabilesy: treos firenge baeaty thaw olatolatle not financiope taste: sis ous meletourted net motle carsisly chonicgotonoshyiret and angyrisetty a coramely wet hot hatsio englesh brichs faasted acderong hounce: ninle wanasione, sweet and faungyd clichlamina ance: curafee apope ith otrenite amderytaltolity a bi'"
      ]
     },
     "execution_count": 107,
     "metadata": {},
     "output_type": "execute_result"
    }
   ],
   "source": [
    "prime = 'i think'\n",
    "appea = 0\n",
    "aroma = 0\n",
    "palat = 1\n",
    "taste = 0\n",
    "overa = 0\n",
    "\n",
    "sample, prob = sample_auxiliary(checkpoint=checkpoint, \n",
    "                                n_samples=n_samples, \n",
    "                                lstm_size=lstm_size, \n",
    "                                num_characters=num_characters, \n",
    "                                num_auxi=num_auxiliary, \n",
    "                                appea=appea, \n",
    "                                aroma=aroma, \n",
    "                                palat=palat, \n",
    "                                taste=taste, \n",
    "                                overa=overa, \n",
    "                                chars_auxi=chars_auxi, \n",
    "                                prime=prime, \n",
    "                                top_n=top_n)\n",
    "\n",
    "prime + sample"
   ]
  },
  {
   "cell_type": "code",
   "execution_count": 108,
   "metadata": {
    "ExecuteTime": {
     "end_time": "2017-05-24T00:21:01.412420Z",
     "start_time": "2017-05-24T00:20:58.745949Z"
    },
    "code_folding": [
     7.0
    ],
    "collapsed": false
   },
   "outputs": [
    {
     "data": {
      "text/plain": [
       "u'i thinke are wang.  mauted mericesced wele i gith sloanted a balence: crinitsted caltolatent, went anatinasti: feuad with bithocey fauver and monstyded barence: baladcelithonabreneted mitcinite a nocing ale think thin hear, friamely.  tout thes chenisteriskabolety: taste: tante: bocing.  smell: sacaringe, finighle. mel thac cetrency faop and ilgighrewente: fireclos and flatingonest, minty a ditlle intle the neter, carimis, it aree. owe a not ance: not atyer as with coosorebatys.peodenish sop i gat mins '"
      ]
     },
     "execution_count": 108,
     "metadata": {},
     "output_type": "execute_result"
    }
   ],
   "source": [
    "prime = 'i think'\n",
    "appea = 0\n",
    "aroma = 0\n",
    "palat = 0\n",
    "taste = 1\n",
    "overa = 0\n",
    "\n",
    "sample, prob = sample_auxiliary(checkpoint=checkpoint, \n",
    "                                n_samples=n_samples, \n",
    "                                lstm_size=lstm_size, \n",
    "                                num_characters=num_characters, \n",
    "                                num_auxi=num_auxiliary, \n",
    "                                appea=appea, \n",
    "                                aroma=aroma, \n",
    "                                palat=palat, \n",
    "                                taste=taste, \n",
    "                                overa=overa, \n",
    "                                chars_auxi=chars_auxi, \n",
    "                                prime=prime, \n",
    "                                top_n=top_n)\n",
    "\n",
    "prime + sample"
   ]
  },
  {
   "cell_type": "code",
   "execution_count": 109,
   "metadata": {
    "ExecuteTime": {
     "end_time": "2017-05-24T00:21:04.489563Z",
     "start_time": "2017-05-24T00:21:02.278723Z"
    },
    "code_folding": [
     7.0
    ],
    "collapsed": false
   },
   "outputs": [
    {
     "data": {
      "text/plain": [
       "u'i thinkany hon somewhat, i friwnls chitolish ale of carcing mofred sadle.  daste: a buthleel toothery wont and bariva ande: caudot ape moaste belalithle fore cuocel ar with a bonity and covopalinkibe and menbed nroul and to frarnety fhucgy a githates a falatotarante: anley as a carbonited is wettensiones, i wacleencholist wir om of srias bithly caraminish belas.  taste: amel is and i with firfility, tlo alply brarnetention slead, sutllelered sopome covarented cwomelk boatted apd mouthe fheacadtentisness'"
      ]
     },
     "execution_count": 109,
     "metadata": {},
     "output_type": "execute_result"
    }
   ],
   "source": [
    "prime = 'i think'\n",
    "appea = 0\n",
    "aroma = 0\n",
    "palat = 0\n",
    "taste = 0\n",
    "overa = 1\n",
    "\n",
    "sample, prob = sample_auxiliary(checkpoint=checkpoint, \n",
    "                                n_samples=n_samples, \n",
    "                                lstm_size=lstm_size, \n",
    "                                num_characters=num_characters, \n",
    "                                num_auxi=num_auxiliary, \n",
    "                                appea=appea, \n",
    "                                aroma=aroma, \n",
    "                                palat=palat, \n",
    "                                taste=taste, \n",
    "                                overa=overa, \n",
    "                                chars_auxi=chars_auxi, \n",
    "                                prime=prime, \n",
    "                                top_n=top_n)\n",
    "\n",
    "prime + sample"
   ]
  },
  {
   "cell_type": "code",
   "execution_count": null,
   "metadata": {
    "collapsed": true
   },
   "outputs": [],
   "source": [
    ""
   ]
  },
  {
   "cell_type": "code",
   "execution_count": null,
   "metadata": {
    "collapsed": true
   },
   "outputs": [],
   "source": [
    ""
   ]
  },
  {
   "cell_type": "code",
   "execution_count": null,
   "metadata": {
    "collapsed": true
   },
   "outputs": [],
   "source": [
    ""
   ]
  },
  {
   "cell_type": "code",
   "execution_count": null,
   "metadata": {
    "collapsed": true
   },
   "outputs": [],
   "source": [
    ""
   ]
  },
  {
   "cell_type": "code",
   "execution_count": null,
   "metadata": {
    "collapsed": true
   },
   "outputs": [],
   "source": [
    ""
   ]
  },
  {
   "cell_type": "code",
   "execution_count": null,
   "metadata": {
    "collapsed": true
   },
   "outputs": [],
   "source": [
    ""
   ]
  },
  {
   "cell_type": "code",
   "execution_count": null,
   "metadata": {
    "collapsed": true
   },
   "outputs": [],
   "source": [
    ""
   ]
  },
  {
   "cell_type": "code",
   "execution_count": null,
   "metadata": {
    "collapsed": true
   },
   "outputs": [],
   "source": [
    ""
   ]
  },
  {
   "cell_type": "code",
   "execution_count": null,
   "metadata": {
    "collapsed": true
   },
   "outputs": [],
   "source": [
    ""
   ]
  },
  {
   "cell_type": "code",
   "execution_count": null,
   "metadata": {
    "collapsed": true
   },
   "outputs": [],
   "source": [
    ""
   ]
  }
 ],
 "metadata": {
  "anaconda-cloud": {},
  "kernelspec": {
   "display_name": "Python [conda env:py27tf]",
   "language": "python",
   "name": "conda-env-py27tf-py"
  },
  "language_info": {
   "codemirror_mode": {
    "name": "ipython",
    "version": 2
   },
   "file_extension": ".py",
   "mimetype": "text/x-python",
   "name": "python",
   "nbconvert_exporter": "python",
   "pygments_lexer": "ipython2",
   "version": "2.7.13"
  },
  "toc": {
   "colors": {
    "hover_highlight": "#DAA520",
    "navigate_num": "#000000",
    "navigate_text": "#333333",
    "running_highlight": "#FF0000",
    "selected_highlight": "#FFD700",
    "sidebar_border": "#EEEEEE",
    "wrapper_background": "#FFFFFF"
   },
   "moveMenuLeft": true,
   "nav_menu": {
    "height": "137px",
    "width": "252px"
   },
   "navigate_menu": true,
   "number_sections": true,
   "sideBar": true,
   "threshold": 4.0,
   "toc_cell": false,
   "toc_section_display": "block",
   "toc_window_display": true,
   "widenNotebook": false
  },
  "varInspector": {
   "cols": {
    "lenName": 16.0,
    "lenType": 16.0,
    "lenVar": 40.0
   },
   "kernels_config": {
    "python": {
     "delete_cmd_postfix": "",
     "delete_cmd_prefix": "del ",
     "library": "var_list.py",
     "varRefreshCmd": "print(var_dic_list())"
    },
    "r": {
     "delete_cmd_postfix": ") ",
     "delete_cmd_prefix": "rm(",
     "library": "var_list.r",
     "varRefreshCmd": "cat(var_dic_list()) "
    }
   },
   "types_to_exclude": [
    "module",
    "function",
    "builtin_function_or_method",
    "instance",
    "_Feature"
   ],
   "window_display": false
  }
 },
 "nbformat": 4,
 "nbformat_minor": 0
}
